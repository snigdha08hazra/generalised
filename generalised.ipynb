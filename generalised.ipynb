{
 "cells": [
  {
   "cell_type": "code",
   "execution_count": 2,
   "id": "8ac0f170",
   "metadata": {},
   "outputs": [],
   "source": [
    "from qiskit.quantum_info import Statevector, Operator\n",
    "from qiskit import QuantumCircuit, Aer, execute\n",
    "import numpy as np\n",
    "import math\n",
    "import matplotlib.pyplot as pl\n",
    "import random"
   ]
  },
  {
   "cell_type": "code",
   "execution_count": 4,
   "id": "d562e7ff",
   "metadata": {},
   "outputs": [
    {
     "name": "stdout",
     "output_type": "stream",
     "text": [
      "noi =  1\n",
      "a =  1\n",
      "a =  0\n",
      "target =  [1. 0.]\n",
      "[ 1.00000000e+00+0.00000000e+00j  7.07106781e-01+7.07106781e-01j\n",
      "  6.12323400e-17+1.00000000e+00j -7.07106781e-01+7.07106781e-01j\n",
      " -1.00000000e+00+1.22464680e-16j -7.07106781e-01-7.07106781e-01j\n",
      " -1.83697020e-16-1.00000000e+00j  7.07106781e-01-7.07106781e-01j]\n"
     ]
    }
   ],
   "source": [
    "n = 3      #no. of qubits\n",
    "N = 2**n   #dimension of matrix\n",
    "t = 2      #no. of target states\n",
    "length = list(range(n))\n",
    "noi = math.floor(math.sqrt(N/t) * np.pi / 4)   #No of iterations\n",
    "print(\"noi = \", noi)\n",
    "\n",
    "#array to store coherence values after each suboperation in every grover's iteration\n",
    "data = np.zeros(noi * 4)\n",
    "x_axis = list(range(noi * 4))\n",
    "\n",
    "#to set target states\n",
    "target = np.zeros(t)\n",
    "count = 0\n",
    "flag = 0\n",
    "i = 0\n",
    "while(True):\n",
    "    #to generate a random integer for target position\n",
    "    a = random.randint(0,N-1)\n",
    "    print(\"a = \",a)\n",
    "    \n",
    "    #checking if that number has already been chosen previously as target state\n",
    "    for j in range(count):\n",
    "        if(target[j] == a):\n",
    "            flag = 1  #value is present in the target array\n",
    "            \n",
    "    #to store new value in target array\n",
    "    if(flag == 0):\n",
    "        #to store in count position of target array\n",
    "        target[count] = a\n",
    "        #updating count (position) value\n",
    "        count += 1\n",
    "        #checking for further iteration of i loop\n",
    "        if(count == t):\n",
    "            break\n",
    "print(\"target = \",target)\n",
    "\n",
    "phi = [0, np.pi/4, np.pi/2, np.pi*3/4, np.pi, np.pi*5/4, np.pi*3/2, np.pi*7/4]   #np.linspace( 0, np.pi)\n",
    "x = np.zeros(len(phi), dtype=complex)\n",
    "for i in range(len(phi)):\n",
    "    x[i] = complex(np.cos(phi[i]), np.sin(phi[i]))\n",
    "print(x)"
   ]
  },
  {
   "cell_type": "code",
   "execution_count": 5,
   "id": "545fbdf4",
   "metadata": {
    "scrolled": true
   },
   "outputs": [
    {
     "data": {
      "text/plain": [
       "'initialised |ψ0⟩'"
      ]
     },
     "metadata": {},
     "output_type": "display_data"
    },
    {
     "data": {
      "text/latex": [
       "$$ |000\\rangle$$"
      ],
      "text/plain": [
       "<IPython.core.display.Latex object>"
      ]
     },
     "metadata": {},
     "output_type": "display_data"
    },
    {
     "name": "stdout",
     "output_type": "stream",
     "text": [
      "coherence of |ψ0⟩ =  0.0\n"
     ]
    },
    {
     "data": {
      "text/plain": [
       "'applied Hadamard to all |ψ1⟩'"
      ]
     },
     "metadata": {},
     "output_type": "display_data"
    },
    {
     "data": {
      "text/latex": [
       "$$\\frac{\\sqrt{2}}{4} |000\\rangle+\\frac{\\sqrt{2}}{4} |001\\rangle+\\frac{\\sqrt{2}}{4} |010\\rangle+\\frac{\\sqrt{2}}{4} |011\\rangle+\\frac{\\sqrt{2}}{4} |100\\rangle+\\frac{\\sqrt{2}}{4} |101\\rangle+\\frac{\\sqrt{2}}{4} |110\\rangle+\\frac{\\sqrt{2}}{4} |111\\rangle$$"
      ],
      "text/plain": [
       "<IPython.core.display.Latex object>"
      ]
     },
     "metadata": {},
     "output_type": "display_data"
    },
    {
     "name": "stdout",
     "output_type": "stream",
     "text": [
      "coherence of |ψ1⟩ =  7.000000000000001\n",
      "Operator([[1.+0.j, 0.+0.j, 0.+0.j, 0.+0.j, 0.+0.j, 0.+0.j, 0.+0.j, 0.+0.j],\n",
      "          [0.+0.j, 1.+0.j, 0.+0.j, 0.+0.j, 0.+0.j, 0.+0.j, 0.+0.j, 0.+0.j],\n",
      "          [0.+0.j, 0.+0.j, 1.+0.j, 0.+0.j, 0.+0.j, 0.+0.j, 0.+0.j, 0.+0.j],\n",
      "          [0.+0.j, 0.+0.j, 0.+0.j, 1.+0.j, 0.+0.j, 0.+0.j, 0.+0.j, 0.+0.j],\n",
      "          [0.+0.j, 0.+0.j, 0.+0.j, 0.+0.j, 1.+0.j, 0.+0.j, 0.+0.j, 0.+0.j],\n",
      "          [0.+0.j, 0.+0.j, 0.+0.j, 0.+0.j, 0.+0.j, 1.+0.j, 0.+0.j, 0.+0.j],\n",
      "          [0.+0.j, 0.+0.j, 0.+0.j, 0.+0.j, 0.+0.j, 0.+0.j, 1.+0.j, 0.+0.j],\n",
      "          [0.+0.j, 0.+0.j, 0.+0.j, 0.+0.j, 0.+0.j, 0.+0.j, 0.+0.j, 1.+0.j]],\n",
      "         input_dims=(2, 2, 2), output_dims=(2, 2, 2))\n",
      "-------- 1  ITERATION--------\n"
     ]
    },
    {
     "data": {
      "text/plain": [
       "'applied O operator to |ψ2⟩'"
      ]
     },
     "metadata": {},
     "output_type": "display_data"
    },
    {
     "data": {
      "text/latex": [
       "$$\\frac{\\sqrt{2}}{4} |000\\rangle+\\frac{\\sqrt{2}}{4} |001\\rangle+\\frac{\\sqrt{2}}{4} |010\\rangle+\\frac{\\sqrt{2}}{4} |011\\rangle+\\frac{\\sqrt{2}}{4} |100\\rangle+\\frac{\\sqrt{2}}{4} |101\\rangle+\\frac{\\sqrt{2}}{4} |110\\rangle+\\frac{\\sqrt{2}}{4} |111\\rangle$$"
      ],
      "text/plain": [
       "<IPython.core.display.Latex object>"
      ]
     },
     "metadata": {},
     "output_type": "display_data"
    },
    {
     "name": "stdout",
     "output_type": "stream",
     "text": [
      "coherence of |ψ2⟩ =  7.000000000000001\n"
     ]
    },
    {
     "data": {
      "text/plain": [
       "'applied Hadamard to all |ψ1⟩'"
      ]
     },
     "metadata": {},
     "output_type": "display_data"
    },
    {
     "data": {
      "text/latex": [
       "$$ |000\\rangle$$"
      ],
      "text/plain": [
       "<IPython.core.display.Latex object>"
      ]
     },
     "metadata": {},
     "output_type": "display_data"
    },
    {
     "name": "stdout",
     "output_type": "stream",
     "text": [
      "coherence of |ψ1⟩ =  4.224630586500988e-16\n"
     ]
    },
    {
     "data": {
      "text/plain": [
       "'applied P operator to |ψ4⟩'"
      ]
     },
     "metadata": {},
     "output_type": "display_data"
    },
    {
     "data": {
      "text/latex": [
       "$$ |000\\rangle$$"
      ],
      "text/plain": [
       "<IPython.core.display.Latex object>"
      ]
     },
     "metadata": {},
     "output_type": "display_data"
    },
    {
     "name": "stdout",
     "output_type": "stream",
     "text": [
      "coherence of |ψ4⟩ =  4.224630586500988e-16\n"
     ]
    },
    {
     "data": {
      "text/plain": [
       "'applied Hadamard to all |ψ5⟩'"
      ]
     },
     "metadata": {},
     "output_type": "display_data"
    },
    {
     "data": {
      "text/latex": [
       "$$\\frac{\\sqrt{2}}{4} |000\\rangle+\\frac{\\sqrt{2}}{4} |001\\rangle+\\frac{\\sqrt{2}}{4} |010\\rangle+\\frac{\\sqrt{2}}{4} |011\\rangle+\\frac{\\sqrt{2}}{4} |100\\rangle+\\frac{\\sqrt{2}}{4} |101\\rangle+\\frac{\\sqrt{2}}{4} |110\\rangle+\\frac{\\sqrt{2}}{4} |111\\rangle$$"
      ],
      "text/plain": [
       "<IPython.core.display.Latex object>"
      ]
     },
     "metadata": {},
     "output_type": "display_data"
    },
    {
     "name": "stdout",
     "output_type": "stream",
     "text": [
      "coherence of |ψ5⟩ =  7.000000000000001\n"
     ]
    },
    {
     "data": {
      "text/plain": [
       "'initialised |ψ0⟩'"
      ]
     },
     "metadata": {},
     "output_type": "display_data"
    },
    {
     "data": {
      "text/latex": [
       "$$ |000\\rangle$$"
      ],
      "text/plain": [
       "<IPython.core.display.Latex object>"
      ]
     },
     "metadata": {},
     "output_type": "display_data"
    },
    {
     "name": "stdout",
     "output_type": "stream",
     "text": [
      "coherence of |ψ0⟩ =  0.0\n"
     ]
    },
    {
     "data": {
      "text/plain": [
       "'applied Hadamard to all |ψ1⟩'"
      ]
     },
     "metadata": {},
     "output_type": "display_data"
    },
    {
     "data": {
      "text/latex": [
       "$$\\frac{\\sqrt{2}}{4} |000\\rangle+\\frac{\\sqrt{2}}{4} |001\\rangle+\\frac{\\sqrt{2}}{4} |010\\rangle+\\frac{\\sqrt{2}}{4} |011\\rangle+\\frac{\\sqrt{2}}{4} |100\\rangle+\\frac{\\sqrt{2}}{4} |101\\rangle+\\frac{\\sqrt{2}}{4} |110\\rangle+\\frac{\\sqrt{2}}{4} |111\\rangle$$"
      ],
      "text/plain": [
       "<IPython.core.display.Latex object>"
      ]
     },
     "metadata": {},
     "output_type": "display_data"
    },
    {
     "name": "stdout",
     "output_type": "stream",
     "text": [
      "coherence of |ψ1⟩ =  7.000000000000001\n",
      "Operator([[1.        +0.j        , 0.        +0.j        ,\n",
      "           0.        +0.j        , 0.        +0.j        ,\n",
      "           0.        +0.j        , 0.        +0.j        ,\n",
      "           0.        +0.j        , 0.        +0.j        ],\n",
      "          [0.        +0.j        , 0.70710678+0.70710678j,\n",
      "           0.        +0.j        , 0.        +0.j        ,\n",
      "           0.        +0.j        , 0.        +0.j        ,\n",
      "           0.        +0.j        , 0.        +0.j        ],\n",
      "          [0.        +0.j        , 0.        +0.j        ,\n",
      "           1.        +0.j        , 0.        +0.j        ,\n",
      "           0.        +0.j        , 0.        +0.j        ,\n",
      "           0.        +0.j        , 0.        +0.j        ],\n",
      "          [0.        +0.j        , 0.        +0.j        ,\n",
      "           0.        +0.j        , 1.        +0.j        ,\n",
      "           0.        +0.j        , 0.        +0.j        ,\n",
      "           0.        +0.j        , 0.        +0.j        ],\n",
      "          [0.        +0.j        , 0.        +0.j        ,\n",
      "           0.        +0.j        , 0.        +0.j        ,\n",
      "           1.        +0.j        , 0.        +0.j        ,\n",
      "           0.        +0.j        , 0.        +0.j        ],\n",
      "          [0.        +0.j        , 0.        +0.j        ,\n",
      "           0.        +0.j        , 0.        +0.j        ,\n",
      "           0.        +0.j        , 1.        +0.j        ,\n",
      "           0.        +0.j        , 0.        +0.j        ],\n",
      "          [0.        +0.j        , 0.        +0.j        ,\n",
      "           0.        +0.j        , 0.        +0.j        ,\n",
      "           0.        +0.j        , 0.        +0.j        ,\n",
      "           1.        +0.j        , 0.        +0.j        ],\n",
      "          [0.        +0.j        , 0.        +0.j        ,\n",
      "           0.        +0.j        , 0.        +0.j        ,\n",
      "           0.        +0.j        , 0.        +0.j        ,\n",
      "           0.        +0.j        , 1.        +0.j        ]],\n",
      "         input_dims=(2, 2, 2), output_dims=(2, 2, 2))\n",
      "-------- 1  ITERATION--------\n"
     ]
    },
    {
     "data": {
      "text/plain": [
       "'applied O operator to |ψ2⟩'"
      ]
     },
     "metadata": {},
     "output_type": "display_data"
    },
    {
     "data": {
      "text/latex": [
       "$$\\frac{\\sqrt{2}}{4} |000\\rangle+ (\\frac{1}{4} + \\frac{i}{4}) |001\\rangle+\\frac{\\sqrt{2}}{4} |010\\rangle+\\frac{\\sqrt{2}}{4} |011\\rangle+\\frac{\\sqrt{2}}{4} |100\\rangle+\\frac{\\sqrt{2}}{4} |101\\rangle+\\frac{\\sqrt{2}}{4} |110\\rangle+\\frac{\\sqrt{2}}{4} |111\\rangle$$"
      ],
      "text/plain": [
       "<IPython.core.display.Latex object>"
      ]
     },
     "metadata": {},
     "output_type": "display_data"
    },
    {
     "name": "stdout",
     "output_type": "stream",
     "text": [
      "coherence of |ψ2⟩ =  7.000000000000001\n"
     ]
    },
    {
     "data": {
      "text/plain": [
       "'applied Hadamard to all |ψ1⟩'"
      ]
     },
     "metadata": {},
     "output_type": "display_data"
    },
    {
     "data": {
      "text/latex": [
       "$$(0.963388347648 + 0.088388347648 i) |000\\rangle+ (0.036611652352 - 0.088388347648 i) |001\\rangle+ (-0.036611652352 + 0.088388347648 i) |010\\rangle+ (0.036611652352 - 0.088388347648 i) |011\\rangle+ (-0.036611652352 + 0.088388347648 i) |100\\rangle+ (0.036611652352 - 0.088388347648 i) |101\\rangle+ (-0.036611652352 + 0.088388347648 i) |110\\rangle+ (0.036611652352 - 0.088388347648 i) |111\\rangle$$"
      ],
      "text/plain": [
       "<IPython.core.display.Latex object>"
      ]
     },
     "metadata": {},
     "output_type": "display_data"
    },
    {
     "name": "stdout",
     "output_type": "stream",
     "text": [
      "coherence of |ψ1⟩ =  1.680196459228431\n"
     ]
    },
    {
     "data": {
      "text/plain": [
       "'applied P operator to |ψ4⟩'"
      ]
     },
     "metadata": {},
     "output_type": "display_data"
    },
    {
     "data": {
      "text/latex": [
       "$$(0.963388347648 + 0.088388347648 i) |000\\rangle+ (-0.036611652352 + 0.088388347648 i) |001\\rangle+ (0.036611652352 - 0.088388347648 i) |010\\rangle+ (-0.036611652352 + 0.088388347648 i) |011\\rangle+ (0.036611652352 - 0.088388347648 i) |100\\rangle+ (-0.036611652352 + 0.088388347648 i) |101\\rangle+ (0.036611652352 - 0.088388347648 i) |110\\rangle+ (-0.036611652352 + 0.088388347648 i) |111\\rangle$$"
      ],
      "text/plain": [
       "<IPython.core.display.Latex object>"
      ]
     },
     "metadata": {},
     "output_type": "display_data"
    },
    {
     "name": "stdout",
     "output_type": "stream",
     "text": [
      "coherence of |ψ4⟩ =  1.680196459228431\n"
     ]
    },
    {
     "data": {
      "text/plain": [
       "'applied Hadamard to all |ψ5⟩'"
      ]
     },
     "metadata": {},
     "output_type": "display_data"
    },
    {
     "data": {
      "text/latex": [
       "$$(0.327665042945 + 0.0625 i) |000\\rangle+ (0.431218433538 - 0.1875 i) |001\\rangle+ (0.327665042945 + 0.0625 i) |010\\rangle+ (0.327665042945 + 0.0625 i) |011\\rangle+ (0.327665042945 + 0.0625 i) |100\\rangle+ (0.327665042945 + 0.0625 i) |101\\rangle+ (0.327665042945 + 0.0625 i) |110\\rangle+ (0.327665042945 + 0.0625 i) |111\\rangle$$"
      ],
      "text/plain": [
       "<IPython.core.display.Latex object>"
      ]
     },
     "metadata": {},
     "output_type": "display_data"
    },
    {
     "name": "stdout",
     "output_type": "stream",
     "text": [
      "coherence of |ψ5⟩ =  6.869294840808085\n"
     ]
    },
    {
     "data": {
      "text/plain": [
       "'initialised |ψ0⟩'"
      ]
     },
     "metadata": {},
     "output_type": "display_data"
    },
    {
     "data": {
      "text/latex": [
       "$$ |000\\rangle$$"
      ],
      "text/plain": [
       "<IPython.core.display.Latex object>"
      ]
     },
     "metadata": {},
     "output_type": "display_data"
    },
    {
     "name": "stdout",
     "output_type": "stream",
     "text": [
      "coherence of |ψ0⟩ =  0.0\n"
     ]
    },
    {
     "data": {
      "text/plain": [
       "'applied Hadamard to all |ψ1⟩'"
      ]
     },
     "metadata": {},
     "output_type": "display_data"
    },
    {
     "data": {
      "text/latex": [
       "$$\\frac{\\sqrt{2}}{4} |000\\rangle+\\frac{\\sqrt{2}}{4} |001\\rangle+\\frac{\\sqrt{2}}{4} |010\\rangle+\\frac{\\sqrt{2}}{4} |011\\rangle+\\frac{\\sqrt{2}}{4} |100\\rangle+\\frac{\\sqrt{2}}{4} |101\\rangle+\\frac{\\sqrt{2}}{4} |110\\rangle+\\frac{\\sqrt{2}}{4} |111\\rangle$$"
      ],
      "text/plain": [
       "<IPython.core.display.Latex object>"
      ]
     },
     "metadata": {},
     "output_type": "display_data"
    },
    {
     "name": "stdout",
     "output_type": "stream",
     "text": [
      "coherence of |ψ1⟩ =  7.000000000000001\n",
      "Operator([[1.000000e+00+0.j, 0.000000e+00+0.j, 0.000000e+00+0.j,\n",
      "           0.000000e+00+0.j, 0.000000e+00+0.j, 0.000000e+00+0.j,\n",
      "           0.000000e+00+0.j, 0.000000e+00+0.j],\n",
      "          [0.000000e+00+0.j, 6.123234e-17+1.j, 0.000000e+00+0.j,\n",
      "           0.000000e+00+0.j, 0.000000e+00+0.j, 0.000000e+00+0.j,\n",
      "           0.000000e+00+0.j, 0.000000e+00+0.j],\n",
      "          [0.000000e+00+0.j, 0.000000e+00+0.j, 1.000000e+00+0.j,\n",
      "           0.000000e+00+0.j, 0.000000e+00+0.j, 0.000000e+00+0.j,\n",
      "           0.000000e+00+0.j, 0.000000e+00+0.j],\n",
      "          [0.000000e+00+0.j, 0.000000e+00+0.j, 0.000000e+00+0.j,\n",
      "           1.000000e+00+0.j, 0.000000e+00+0.j, 0.000000e+00+0.j,\n",
      "           0.000000e+00+0.j, 0.000000e+00+0.j],\n",
      "          [0.000000e+00+0.j, 0.000000e+00+0.j, 0.000000e+00+0.j,\n",
      "           0.000000e+00+0.j, 1.000000e+00+0.j, 0.000000e+00+0.j,\n",
      "           0.000000e+00+0.j, 0.000000e+00+0.j],\n",
      "          [0.000000e+00+0.j, 0.000000e+00+0.j, 0.000000e+00+0.j,\n",
      "           0.000000e+00+0.j, 0.000000e+00+0.j, 1.000000e+00+0.j,\n",
      "           0.000000e+00+0.j, 0.000000e+00+0.j],\n",
      "          [0.000000e+00+0.j, 0.000000e+00+0.j, 0.000000e+00+0.j,\n",
      "           0.000000e+00+0.j, 0.000000e+00+0.j, 0.000000e+00+0.j,\n",
      "           1.000000e+00+0.j, 0.000000e+00+0.j],\n",
      "          [0.000000e+00+0.j, 0.000000e+00+0.j, 0.000000e+00+0.j,\n",
      "           0.000000e+00+0.j, 0.000000e+00+0.j, 0.000000e+00+0.j,\n",
      "           0.000000e+00+0.j, 1.000000e+00+0.j]],\n",
      "         input_dims=(2, 2, 2), output_dims=(2, 2, 2))\n",
      "-------- 1  ITERATION--------\n"
     ]
    },
    {
     "data": {
      "text/plain": [
       "'applied O operator to |ψ2⟩'"
      ]
     },
     "metadata": {},
     "output_type": "display_data"
    },
    {
     "data": {
      "text/latex": [
       "$$\\frac{\\sqrt{2}}{4} |000\\rangle+\\frac{\\sqrt{2} i}{4} |001\\rangle+\\frac{\\sqrt{2}}{4} |010\\rangle+\\frac{\\sqrt{2}}{4} |011\\rangle+\\frac{\\sqrt{2}}{4} |100\\rangle+\\frac{\\sqrt{2}}{4} |101\\rangle+\\frac{\\sqrt{2}}{4} |110\\rangle+\\frac{\\sqrt{2}}{4} |111\\rangle$$"
      ],
      "text/plain": [
       "<IPython.core.display.Latex object>"
      ]
     },
     "metadata": {},
     "output_type": "display_data"
    },
    {
     "name": "stdout",
     "output_type": "stream",
     "text": [
      "coherence of |ψ2⟩ =  7.000000000000001\n"
     ]
    },
    {
     "data": {
      "text/plain": [
       "'applied Hadamard to all |ψ1⟩'"
      ]
     },
     "metadata": {},
     "output_type": "display_data"
    },
    {
     "data": {
      "text/latex": [
       "$$(\\frac{7}{8} + \\frac{i}{8}) |000\\rangle+ (\\frac{1}{8} - \\frac{i}{8}) |001\\rangle+ (- \\frac{1}{8} + \\frac{i}{8}) |010\\rangle+ (\\frac{1}{8} - \\frac{i}{8}) |011\\rangle+ (- \\frac{1}{8} + \\frac{i}{8}) |100\\rangle+ (\\frac{1}{8} - \\frac{i}{8}) |101\\rangle+ (- \\frac{1}{8} + \\frac{i}{8}) |110\\rangle+ (\\frac{1}{8} - \\frac{i}{8}) |111\\rangle$$"
      ],
      "text/plain": [
       "<IPython.core.display.Latex object>"
      ]
     },
     "metadata": {},
     "output_type": "display_data"
    },
    {
     "name": "stdout",
     "output_type": "stream",
     "text": [
      "coherence of |ψ1⟩ =  3.5000000000000013\n"
     ]
    },
    {
     "data": {
      "text/plain": [
       "'applied P operator to |ψ4⟩'"
      ]
     },
     "metadata": {},
     "output_type": "display_data"
    },
    {
     "data": {
      "text/latex": [
       "$$(\\frac{7}{8} + \\frac{i}{8}) |000\\rangle+ (- \\frac{1}{8} + \\frac{i}{8}) |001\\rangle+ (\\frac{1}{8} - \\frac{i}{8}) |010\\rangle+ (- \\frac{1}{8} + \\frac{i}{8}) |011\\rangle+ (\\frac{1}{8} - \\frac{i}{8}) |100\\rangle+ (- \\frac{1}{8} + \\frac{i}{8}) |101\\rangle+ (\\frac{1}{8} - \\frac{i}{8}) |110\\rangle+ (- \\frac{1}{8} + \\frac{i}{8}) |111\\rangle$$"
      ],
      "text/plain": [
       "<IPython.core.display.Latex object>"
      ]
     },
     "metadata": {},
     "output_type": "display_data"
    },
    {
     "name": "stdout",
     "output_type": "stream",
     "text": [
      "coherence of |ψ4⟩ =  3.5000000000000013\n"
     ]
    },
    {
     "data": {
      "text/plain": [
       "'applied Hadamard to all |ψ5⟩'"
      ]
     },
     "metadata": {},
     "output_type": "display_data"
    },
    {
     "data": {
      "text/latex": [
       "$$(\\frac{33191424 \\cdot 2^{\\frac{19}{28}} \\cdot 3^{\\frac{5}{7}} \\cdot 5^{\\frac{6}{7}} \\sqrt{7}}{1953125 \\pi^{\\frac{95}{14}}} + \\frac{3 \\cdot 2^{\\frac{25}{99}} \\cdot 3^{\\frac{4}{9}} \\cdot 5^{\\frac{5}{66}} \\cdot 7^{\\frac{13}{66}} i}{25 \\pi^{\\frac{85}{66}}}) |000\\rangle+ (\\frac{2^{\\frac{165}{188}} \\cdot 3^{\\frac{139}{141}} \\cdot 5^{\\frac{25}{141}} \\cdot 7^{\\frac{403}{564}}}{42 \\pi^{\\frac{9}{94}}} - \\frac{33191424 \\cdot 2^{\\frac{19}{28}} \\cdot 3^{\\frac{5}{7}} \\cdot 5^{\\frac{6}{7}} \\sqrt{7} i}{1953125 \\pi^{\\frac{95}{14}}}) |001\\rangle+ (\\frac{33191424 \\cdot 2^{\\frac{19}{28}} \\cdot 3^{\\frac{5}{7}} \\cdot 5^{\\frac{6}{7}} \\sqrt{7}}{1953125 \\pi^{\\frac{95}{14}}} + \\frac{3 \\cdot 2^{\\frac{25}{99}} \\cdot 3^{\\frac{4}{9}} \\cdot 5^{\\frac{5}{66}} \\cdot 7^{\\frac{13}{66}} i}{25 \\pi^{\\frac{85}{66}}}) |010\\rangle+ (\\frac{33191424 \\cdot 2^{\\frac{19}{28}} \\cdot 3^{\\frac{5}{7}} \\cdot 5^{\\frac{6}{7}} \\sqrt{7}}{1953125 \\pi^{\\frac{95}{14}}} + \\frac{3 \\cdot 2^{\\frac{25}{99}} \\cdot 3^{\\frac{4}{9}} \\cdot 5^{\\frac{5}{66}} \\cdot 7^{\\frac{13}{66}} i}{25 \\pi^{\\frac{85}{66}}}) |011\\rangle+ (\\frac{33191424 \\cdot 2^{\\frac{19}{28}} \\cdot 3^{\\frac{5}{7}} \\cdot 5^{\\frac{6}{7}} \\sqrt{7}}{1953125 \\pi^{\\frac{95}{14}}} + \\frac{3 \\cdot 2^{\\frac{25}{99}} \\cdot 3^{\\frac{4}{9}} \\cdot 5^{\\frac{5}{66}} \\cdot 7^{\\frac{13}{66}} i}{25 \\pi^{\\frac{85}{66}}}) |100\\rangle+ (\\frac{33191424 \\cdot 2^{\\frac{19}{28}} \\cdot 3^{\\frac{5}{7}} \\cdot 5^{\\frac{6}{7}} \\sqrt{7}}{1953125 \\pi^{\\frac{95}{14}}} + \\frac{3 \\cdot 2^{\\frac{25}{99}} \\cdot 3^{\\frac{4}{9}} \\cdot 5^{\\frac{5}{66}} \\cdot 7^{\\frac{13}{66}} i}{25 \\pi^{\\frac{85}{66}}}) |101\\rangle+ (\\frac{33191424 \\cdot 2^{\\frac{19}{28}} \\cdot 3^{\\frac{5}{7}} \\cdot 5^{\\frac{6}{7}} \\sqrt{7}}{1953125 \\pi^{\\frac{95}{14}}} + \\frac{3 \\cdot 2^{\\frac{25}{99}} \\cdot 3^{\\frac{4}{9}} \\cdot 5^{\\frac{5}{66}} \\cdot 7^{\\frac{13}{66}} i}{25 \\pi^{\\frac{85}{66}}}) |110\\rangle+ (\\frac{33191424 \\cdot 2^{\\frac{19}{28}} \\cdot 3^{\\frac{5}{7}} \\cdot 5^{\\frac{6}{7}} \\sqrt{7}}{1953125 \\pi^{\\frac{95}{14}}} + \\frac{3 \\cdot 2^{\\frac{25}{99}} \\cdot 3^{\\frac{4}{9}} \\cdot 5^{\\frac{5}{66}} \\cdot 7^{\\frac{13}{66}} i}{25 \\pi^{\\frac{85}{66}}}) |111\\rangle$$"
      ],
      "text/plain": [
       "<IPython.core.display.Latex object>"
      ]
     },
     "metadata": {},
     "output_type": "display_data"
    },
    {
     "name": "stdout",
     "output_type": "stream",
     "text": [
      "coherence of |ψ5⟩ =  5.915348814110818\n"
     ]
    },
    {
     "data": {
      "text/plain": [
       "'initialised |ψ0⟩'"
      ]
     },
     "metadata": {},
     "output_type": "display_data"
    },
    {
     "data": {
      "text/latex": [
       "$$ |000\\rangle$$"
      ],
      "text/plain": [
       "<IPython.core.display.Latex object>"
      ]
     },
     "metadata": {},
     "output_type": "display_data"
    },
    {
     "name": "stdout",
     "output_type": "stream",
     "text": [
      "coherence of |ψ0⟩ =  0.0\n"
     ]
    },
    {
     "data": {
      "text/plain": [
       "'applied Hadamard to all |ψ1⟩'"
      ]
     },
     "metadata": {},
     "output_type": "display_data"
    },
    {
     "data": {
      "text/latex": [
       "$$\\frac{\\sqrt{2}}{4} |000\\rangle+\\frac{\\sqrt{2}}{4} |001\\rangle+\\frac{\\sqrt{2}}{4} |010\\rangle+\\frac{\\sqrt{2}}{4} |011\\rangle+\\frac{\\sqrt{2}}{4} |100\\rangle+\\frac{\\sqrt{2}}{4} |101\\rangle+\\frac{\\sqrt{2}}{4} |110\\rangle+\\frac{\\sqrt{2}}{4} |111\\rangle$$"
      ],
      "text/plain": [
       "<IPython.core.display.Latex object>"
      ]
     },
     "metadata": {},
     "output_type": "display_data"
    },
    {
     "name": "stdout",
     "output_type": "stream",
     "text": [
      "coherence of |ψ1⟩ =  7.000000000000001\n",
      "Operator([[ 1.        +0.j        ,  0.        +0.j        ,\n",
      "            0.        +0.j        ,  0.        +0.j        ,\n",
      "            0.        +0.j        ,  0.        +0.j        ,\n",
      "            0.        +0.j        ,  0.        +0.j        ],\n",
      "          [ 0.        +0.j        , -0.70710678+0.70710678j,\n",
      "            0.        +0.j        ,  0.        +0.j        ,\n",
      "            0.        +0.j        ,  0.        +0.j        ,\n",
      "            0.        +0.j        ,  0.        +0.j        ],\n",
      "          [ 0.        +0.j        ,  0.        +0.j        ,\n",
      "            1.        +0.j        ,  0.        +0.j        ,\n",
      "            0.        +0.j        ,  0.        +0.j        ,\n",
      "            0.        +0.j        ,  0.        +0.j        ],\n",
      "          [ 0.        +0.j        ,  0.        +0.j        ,\n",
      "            0.        +0.j        ,  1.        +0.j        ,\n",
      "            0.        +0.j        ,  0.        +0.j        ,\n",
      "            0.        +0.j        ,  0.        +0.j        ],\n",
      "          [ 0.        +0.j        ,  0.        +0.j        ,\n",
      "            0.        +0.j        ,  0.        +0.j        ,\n",
      "            1.        +0.j        ,  0.        +0.j        ,\n",
      "            0.        +0.j        ,  0.        +0.j        ],\n",
      "          [ 0.        +0.j        ,  0.        +0.j        ,\n",
      "            0.        +0.j        ,  0.        +0.j        ,\n",
      "            0.        +0.j        ,  1.        +0.j        ,\n",
      "            0.        +0.j        ,  0.        +0.j        ],\n",
      "          [ 0.        +0.j        ,  0.        +0.j        ,\n",
      "            0.        +0.j        ,  0.        +0.j        ,\n",
      "            0.        +0.j        ,  0.        +0.j        ,\n",
      "            1.        +0.j        ,  0.        +0.j        ],\n",
      "          [ 0.        +0.j        ,  0.        +0.j        ,\n",
      "            0.        +0.j        ,  0.        +0.j        ,\n",
      "            0.        +0.j        ,  0.        +0.j        ,\n",
      "            0.        +0.j        ,  1.        +0.j        ]],\n",
      "         input_dims=(2, 2, 2), output_dims=(2, 2, 2))\n",
      "-------- 1  ITERATION--------\n"
     ]
    },
    {
     "data": {
      "text/plain": [
       "'applied O operator to |ψ2⟩'"
      ]
     },
     "metadata": {},
     "output_type": "display_data"
    },
    {
     "data": {
      "text/latex": [
       "$$\\frac{\\sqrt{2}}{4} |000\\rangle+ (- \\frac{1}{4} + \\frac{i}{4}) |001\\rangle+\\frac{\\sqrt{2}}{4} |010\\rangle+\\frac{\\sqrt{2}}{4} |011\\rangle+\\frac{\\sqrt{2}}{4} |100\\rangle+\\frac{\\sqrt{2}}{4} |101\\rangle+\\frac{\\sqrt{2}}{4} |110\\rangle+\\frac{\\sqrt{2}}{4} |111\\rangle$$"
      ],
      "text/plain": [
       "<IPython.core.display.Latex object>"
      ]
     },
     "metadata": {},
     "output_type": "display_data"
    },
    {
     "name": "stdout",
     "output_type": "stream",
     "text": [
      "coherence of |ψ2⟩ =  7.000000000000001\n"
     ]
    },
    {
     "data": {
      "text/plain": [
       "'applied Hadamard to all |ψ1⟩'"
      ]
     },
     "metadata": {},
     "output_type": "display_data"
    },
    {
     "data": {
      "text/latex": [
       "$$(0.786611652352 + 0.088388347648 i) |000\\rangle+ (0.213388347648 - 0.088388347648 i) |001\\rangle+ (-0.213388347648 + 0.088388347648 i) |010\\rangle+ (0.213388347648 - 0.088388347648 i) |011\\rangle+ (-0.213388347648 + 0.088388347648 i) |100\\rangle+ (0.213388347648 - 0.088388347648 i) |101\\rangle+ (-0.213388347648 + 0.088388347648 i) |110\\rangle+ (0.213388347648 - 0.088388347648 i) |111\\rangle$$"
      ],
      "text/plain": [
       "<IPython.core.display.Latex object>"
      ]
     },
     "metadata": {},
     "output_type": "display_data"
    },
    {
     "name": "stdout",
     "output_type": "stream",
     "text": [
      "coherence of |ψ1⟩ =  4.800155390298222\n"
     ]
    },
    {
     "data": {
      "text/plain": [
       "'applied P operator to |ψ4⟩'"
      ]
     },
     "metadata": {},
     "output_type": "display_data"
    },
    {
     "data": {
      "text/latex": [
       "$$(0.786611652352 + 0.088388347648 i) |000\\rangle+ (-0.213388347648 + 0.088388347648 i) |001\\rangle+ (0.213388347648 - 0.088388347648 i) |010\\rangle+ (-0.213388347648 + 0.088388347648 i) |011\\rangle+ (0.213388347648 - 0.088388347648 i) |100\\rangle+ (-0.213388347648 + 0.088388347648 i) |101\\rangle+ (0.213388347648 - 0.088388347648 i) |110\\rangle+ (-0.213388347648 + 0.088388347648 i) |111\\rangle$$"
      ],
      "text/plain": [
       "<IPython.core.display.Latex object>"
      ]
     },
     "metadata": {},
     "output_type": "display_data"
    },
    {
     "name": "stdout",
     "output_type": "stream",
     "text": [
      "coherence of |ψ4⟩ =  4.800155390298222\n"
     ]
    },
    {
     "data": {
      "text/plain": [
       "'applied Hadamard to all |ψ5⟩'"
      ]
     },
     "metadata": {},
     "output_type": "display_data"
    },
    {
     "data": {
      "text/latex": [
       "$$(0.202665042945 + 0.0625 i) |000\\rangle+ (0.806218433538 - 0.1875 i) |001\\rangle+ (0.202665042945 + 0.0625 i) |010\\rangle+ (0.202665042945 + 0.0625 i) |011\\rangle+ (0.202665042945 + 0.0625 i) |100\\rangle+ (0.202665042945 + 0.0625 i) |101\\rangle+ (0.202665042945 + 0.0625 i) |110\\rangle+ (0.202665042945 + 0.0625 i) |111\\rangle$$"
      ],
      "text/plain": [
       "<IPython.core.display.Latex object>"
      ]
     },
     "metadata": {},
     "output_type": "display_data"
    },
    {
     "name": "stdout",
     "output_type": "stream",
     "text": [
      "coherence of |ψ5⟩ =  4.346816030837189\n"
     ]
    },
    {
     "data": {
      "text/plain": [
       "'initialised |ψ0⟩'"
      ]
     },
     "metadata": {},
     "output_type": "display_data"
    },
    {
     "data": {
      "text/latex": [
       "$$ |000\\rangle$$"
      ],
      "text/plain": [
       "<IPython.core.display.Latex object>"
      ]
     },
     "metadata": {},
     "output_type": "display_data"
    },
    {
     "name": "stdout",
     "output_type": "stream",
     "text": [
      "coherence of |ψ0⟩ =  0.0\n"
     ]
    },
    {
     "data": {
      "text/plain": [
       "'applied Hadamard to all |ψ1⟩'"
      ]
     },
     "metadata": {},
     "output_type": "display_data"
    },
    {
     "data": {
      "text/latex": [
       "$$\\frac{\\sqrt{2}}{4} |000\\rangle+\\frac{\\sqrt{2}}{4} |001\\rangle+\\frac{\\sqrt{2}}{4} |010\\rangle+\\frac{\\sqrt{2}}{4} |011\\rangle+\\frac{\\sqrt{2}}{4} |100\\rangle+\\frac{\\sqrt{2}}{4} |101\\rangle+\\frac{\\sqrt{2}}{4} |110\\rangle+\\frac{\\sqrt{2}}{4} |111\\rangle$$"
      ],
      "text/plain": [
       "<IPython.core.display.Latex object>"
      ]
     },
     "metadata": {},
     "output_type": "display_data"
    },
    {
     "name": "stdout",
     "output_type": "stream",
     "text": [
      "coherence of |ψ1⟩ =  7.000000000000001\n",
      "Operator([[ 1.+0.0000000e+00j,  0.+0.0000000e+00j,  0.+0.0000000e+00j,\n",
      "            0.+0.0000000e+00j,  0.+0.0000000e+00j,  0.+0.0000000e+00j,\n",
      "            0.+0.0000000e+00j,  0.+0.0000000e+00j],\n",
      "          [ 0.+0.0000000e+00j, -1.+1.2246468e-16j,  0.+0.0000000e+00j,\n",
      "            0.+0.0000000e+00j,  0.+0.0000000e+00j,  0.+0.0000000e+00j,\n",
      "            0.+0.0000000e+00j,  0.+0.0000000e+00j],\n",
      "          [ 0.+0.0000000e+00j,  0.+0.0000000e+00j,  1.+0.0000000e+00j,\n",
      "            0.+0.0000000e+00j,  0.+0.0000000e+00j,  0.+0.0000000e+00j,\n",
      "            0.+0.0000000e+00j,  0.+0.0000000e+00j],\n",
      "          [ 0.+0.0000000e+00j,  0.+0.0000000e+00j,  0.+0.0000000e+00j,\n",
      "            1.+0.0000000e+00j,  0.+0.0000000e+00j,  0.+0.0000000e+00j,\n",
      "            0.+0.0000000e+00j,  0.+0.0000000e+00j],\n",
      "          [ 0.+0.0000000e+00j,  0.+0.0000000e+00j,  0.+0.0000000e+00j,\n",
      "            0.+0.0000000e+00j,  1.+0.0000000e+00j,  0.+0.0000000e+00j,\n",
      "            0.+0.0000000e+00j,  0.+0.0000000e+00j],\n",
      "          [ 0.+0.0000000e+00j,  0.+0.0000000e+00j,  0.+0.0000000e+00j,\n",
      "            0.+0.0000000e+00j,  0.+0.0000000e+00j,  1.+0.0000000e+00j,\n",
      "            0.+0.0000000e+00j,  0.+0.0000000e+00j],\n",
      "          [ 0.+0.0000000e+00j,  0.+0.0000000e+00j,  0.+0.0000000e+00j,\n",
      "            0.+0.0000000e+00j,  0.+0.0000000e+00j,  0.+0.0000000e+00j,\n",
      "            1.+0.0000000e+00j,  0.+0.0000000e+00j],\n",
      "          [ 0.+0.0000000e+00j,  0.+0.0000000e+00j,  0.+0.0000000e+00j,\n",
      "            0.+0.0000000e+00j,  0.+0.0000000e+00j,  0.+0.0000000e+00j,\n",
      "            0.+0.0000000e+00j,  1.+0.0000000e+00j]],\n",
      "         input_dims=(2, 2, 2), output_dims=(2, 2, 2))\n",
      "-------- 1  ITERATION--------\n"
     ]
    },
    {
     "data": {
      "text/plain": [
       "'applied O operator to |ψ2⟩'"
      ]
     },
     "metadata": {},
     "output_type": "display_data"
    },
    {
     "data": {
      "text/latex": [
       "$$\\frac{\\sqrt{2}}{4} |000\\rangle- \\frac{\\sqrt{2}}{4} |001\\rangle+\\frac{\\sqrt{2}}{4} |010\\rangle+\\frac{\\sqrt{2}}{4} |011\\rangle+\\frac{\\sqrt{2}}{4} |100\\rangle+\\frac{\\sqrt{2}}{4} |101\\rangle+\\frac{\\sqrt{2}}{4} |110\\rangle+\\frac{\\sqrt{2}}{4} |111\\rangle$$"
      ],
      "text/plain": [
       "<IPython.core.display.Latex object>"
      ]
     },
     "metadata": {},
     "output_type": "display_data"
    },
    {
     "name": "stdout",
     "output_type": "stream",
     "text": [
      "coherence of |ψ2⟩ =  7.000000000000001\n"
     ]
    },
    {
     "data": {
      "text/plain": [
       "'applied Hadamard to all |ψ1⟩'"
      ]
     },
     "metadata": {},
     "output_type": "display_data"
    },
    {
     "data": {
      "text/latex": [
       "$$\\frac{3}{4} |000\\rangle+\\frac{1}{4} |001\\rangle- \\frac{1}{4} |010\\rangle+\\frac{1}{4} |011\\rangle- \\frac{1}{4} |100\\rangle+\\frac{1}{4} |101\\rangle- \\frac{1}{4} |110\\rangle+\\frac{1}{4} |111\\rangle$$"
      ],
      "text/plain": [
       "<IPython.core.display.Latex object>"
      ]
     },
     "metadata": {},
     "output_type": "display_data"
    },
    {
     "name": "stdout",
     "output_type": "stream",
     "text": [
      "coherence of |ψ1⟩ =  5.250000000000001\n"
     ]
    },
    {
     "data": {
      "text/plain": [
       "'applied P operator to |ψ4⟩'"
      ]
     },
     "metadata": {},
     "output_type": "display_data"
    },
    {
     "data": {
      "text/latex": [
       "$$\\frac{3}{4} |000\\rangle- \\frac{1}{4} |001\\rangle+\\frac{1}{4} |010\\rangle- \\frac{1}{4} |011\\rangle+\\frac{1}{4} |100\\rangle- \\frac{1}{4} |101\\rangle+\\frac{1}{4} |110\\rangle- \\frac{1}{4} |111\\rangle$$"
      ],
      "text/plain": [
       "<IPython.core.display.Latex object>"
      ]
     },
     "metadata": {},
     "output_type": "display_data"
    },
    {
     "name": "stdout",
     "output_type": "stream",
     "text": [
      "coherence of |ψ4⟩ =  5.250000000000001\n"
     ]
    },
    {
     "data": {
      "text/plain": [
       "'applied Hadamard to all |ψ5⟩'"
      ]
     },
     "metadata": {},
     "output_type": "display_data"
    },
    {
     "data": {
      "text/latex": [
       "$$\\frac{3 \\cdot 2^{\\frac{53}{82}} \\cdot 3^{\\frac{73}{82}} \\cdot 5^{\\frac{11}{41}} \\cdot 7^{\\frac{115}{164}}}{2 \\pi^{\\frac{192}{41}}} |000\\rangle+0.883883476483 |001\\rangle+\\frac{3 \\cdot 2^{\\frac{53}{82}} \\cdot 3^{\\frac{73}{82}} \\cdot 5^{\\frac{11}{41}} \\cdot 7^{\\frac{115}{164}}}{2 \\pi^{\\frac{192}{41}}} |010\\rangle+\\frac{3 \\cdot 2^{\\frac{53}{82}} \\cdot 3^{\\frac{73}{82}} \\cdot 5^{\\frac{11}{41}} \\cdot 7^{\\frac{115}{164}}}{2 \\pi^{\\frac{192}{41}}} |011\\rangle+\\frac{3 \\cdot 2^{\\frac{53}{82}} \\cdot 3^{\\frac{73}{82}} \\cdot 5^{\\frac{11}{41}} \\cdot 7^{\\frac{115}{164}}}{2 \\pi^{\\frac{192}{41}}} |100\\rangle+\\frac{3 \\cdot 2^{\\frac{53}{82}} \\cdot 3^{\\frac{73}{82}} \\cdot 5^{\\frac{11}{41}} \\cdot 7^{\\frac{115}{164}}}{2 \\pi^{\\frac{192}{41}}} |101\\rangle+\\frac{3 \\cdot 2^{\\frac{53}{82}} \\cdot 3^{\\frac{73}{82}} \\cdot 5^{\\frac{11}{41}} \\cdot 7^{\\frac{115}{164}}}{2 \\pi^{\\frac{192}{41}}} |110\\rangle+\\frac{3 \\cdot 2^{\\frac{53}{82}} \\cdot 3^{\\frac{73}{82}} \\cdot 5^{\\frac{11}{41}} \\cdot 7^{\\frac{115}{164}}}{2 \\pi^{\\frac{192}{41}}} |111\\rangle$$"
      ],
      "text/plain": [
       "<IPython.core.display.Latex object>"
      ]
     },
     "metadata": {},
     "output_type": "display_data"
    },
    {
     "name": "stdout",
     "output_type": "stream",
     "text": [
      "coherence of |ψ5⟩ =  3.500000000000002\n"
     ]
    },
    {
     "data": {
      "text/plain": [
       "'initialised |ψ0⟩'"
      ]
     },
     "metadata": {},
     "output_type": "display_data"
    },
    {
     "data": {
      "text/latex": [
       "$$ |000\\rangle$$"
      ],
      "text/plain": [
       "<IPython.core.display.Latex object>"
      ]
     },
     "metadata": {},
     "output_type": "display_data"
    },
    {
     "name": "stdout",
     "output_type": "stream",
     "text": [
      "coherence of |ψ0⟩ =  0.0\n"
     ]
    },
    {
     "data": {
      "text/plain": [
       "'applied Hadamard to all |ψ1⟩'"
      ]
     },
     "metadata": {},
     "output_type": "display_data"
    },
    {
     "data": {
      "text/latex": [
       "$$\\frac{\\sqrt{2}}{4} |000\\rangle+\\frac{\\sqrt{2}}{4} |001\\rangle+\\frac{\\sqrt{2}}{4} |010\\rangle+\\frac{\\sqrt{2}}{4} |011\\rangle+\\frac{\\sqrt{2}}{4} |100\\rangle+\\frac{\\sqrt{2}}{4} |101\\rangle+\\frac{\\sqrt{2}}{4} |110\\rangle+\\frac{\\sqrt{2}}{4} |111\\rangle$$"
      ],
      "text/plain": [
       "<IPython.core.display.Latex object>"
      ]
     },
     "metadata": {},
     "output_type": "display_data"
    },
    {
     "name": "stdout",
     "output_type": "stream",
     "text": [
      "coherence of |ψ1⟩ =  7.000000000000001\n",
      "Operator([[ 1.        +0.j        ,  0.        +0.j        ,\n",
      "            0.        +0.j        ,  0.        +0.j        ,\n",
      "            0.        +0.j        ,  0.        +0.j        ,\n",
      "            0.        +0.j        ,  0.        +0.j        ],\n",
      "          [ 0.        +0.j        , -0.70710678-0.70710678j,\n",
      "            0.        +0.j        ,  0.        +0.j        ,\n",
      "            0.        +0.j        ,  0.        +0.j        ,\n",
      "            0.        +0.j        ,  0.        +0.j        ],\n",
      "          [ 0.        +0.j        ,  0.        +0.j        ,\n",
      "            1.        +0.j        ,  0.        +0.j        ,\n",
      "            0.        +0.j        ,  0.        +0.j        ,\n",
      "            0.        +0.j        ,  0.        +0.j        ],\n",
      "          [ 0.        +0.j        ,  0.        +0.j        ,\n",
      "            0.        +0.j        ,  1.        +0.j        ,\n",
      "            0.        +0.j        ,  0.        +0.j        ,\n",
      "            0.        +0.j        ,  0.        +0.j        ],\n",
      "          [ 0.        +0.j        ,  0.        +0.j        ,\n",
      "            0.        +0.j        ,  0.        +0.j        ,\n",
      "            1.        +0.j        ,  0.        +0.j        ,\n",
      "            0.        +0.j        ,  0.        +0.j        ],\n",
      "          [ 0.        +0.j        ,  0.        +0.j        ,\n",
      "            0.        +0.j        ,  0.        +0.j        ,\n",
      "            0.        +0.j        ,  1.        +0.j        ,\n",
      "            0.        +0.j        ,  0.        +0.j        ],\n",
      "          [ 0.        +0.j        ,  0.        +0.j        ,\n",
      "            0.        +0.j        ,  0.        +0.j        ,\n",
      "            0.        +0.j        ,  0.        +0.j        ,\n",
      "            1.        +0.j        ,  0.        +0.j        ],\n",
      "          [ 0.        +0.j        ,  0.        +0.j        ,\n",
      "            0.        +0.j        ,  0.        +0.j        ,\n",
      "            0.        +0.j        ,  0.        +0.j        ,\n",
      "            0.        +0.j        ,  1.        +0.j        ]],\n",
      "         input_dims=(2, 2, 2), output_dims=(2, 2, 2))\n",
      "-------- 1  ITERATION--------\n"
     ]
    },
    {
     "data": {
      "text/plain": [
       "'applied O operator to |ψ2⟩'"
      ]
     },
     "metadata": {},
     "output_type": "display_data"
    },
    {
     "data": {
      "text/latex": [
       "$$\\frac{\\sqrt{2}}{4} |000\\rangle+ (- \\frac{1}{4} - \\frac{i}{4}) |001\\rangle+\\frac{\\sqrt{2}}{4} |010\\rangle+\\frac{\\sqrt{2}}{4} |011\\rangle+\\frac{\\sqrt{2}}{4} |100\\rangle+\\frac{\\sqrt{2}}{4} |101\\rangle+\\frac{\\sqrt{2}}{4} |110\\rangle+\\frac{\\sqrt{2}}{4} |111\\rangle$$"
      ],
      "text/plain": [
       "<IPython.core.display.Latex object>"
      ]
     },
     "metadata": {},
     "output_type": "display_data"
    },
    {
     "name": "stdout",
     "output_type": "stream",
     "text": [
      "coherence of |ψ2⟩ =  7.000000000000001\n"
     ]
    },
    {
     "data": {
      "text/plain": [
       "'applied Hadamard to all |ψ1⟩'"
      ]
     },
     "metadata": {},
     "output_type": "display_data"
    },
    {
     "data": {
      "text/latex": [
       "$$(0.786611652352 - 0.088388347648 i) |000\\rangle+ (0.213388347648 + 0.088388347648 i) |001\\rangle+ (-0.213388347648 - 0.088388347648 i) |010\\rangle+ (0.213388347648 + 0.088388347648 i) |011\\rangle+ (-0.213388347648 - 0.088388347648 i) |100\\rangle+ (0.213388347648 + 0.088388347648 i) |101\\rangle+ (-0.213388347648 - 0.088388347648 i) |110\\rangle+ (0.213388347648 + 0.088388347648 i) |111\\rangle$$"
      ],
      "text/plain": [
       "<IPython.core.display.Latex object>"
      ]
     },
     "metadata": {},
     "output_type": "display_data"
    },
    {
     "name": "stdout",
     "output_type": "stream",
     "text": [
      "coherence of |ψ1⟩ =  4.800155390298223\n"
     ]
    },
    {
     "data": {
      "text/plain": [
       "'applied P operator to |ψ4⟩'"
      ]
     },
     "metadata": {},
     "output_type": "display_data"
    },
    {
     "data": {
      "text/latex": [
       "$$(0.786611652352 - 0.088388347648 i) |000\\rangle+ (-0.213388347648 - 0.088388347648 i) |001\\rangle+ (0.213388347648 + 0.088388347648 i) |010\\rangle+ (-0.213388347648 - 0.088388347648 i) |011\\rangle+ (0.213388347648 + 0.088388347648 i) |100\\rangle+ (-0.213388347648 - 0.088388347648 i) |101\\rangle+ (0.213388347648 + 0.088388347648 i) |110\\rangle+ (-0.213388347648 - 0.088388347648 i) |111\\rangle$$"
      ],
      "text/plain": [
       "<IPython.core.display.Latex object>"
      ]
     },
     "metadata": {},
     "output_type": "display_data"
    },
    {
     "name": "stdout",
     "output_type": "stream",
     "text": [
      "coherence of |ψ4⟩ =  4.800155390298223\n"
     ]
    },
    {
     "data": {
      "text/plain": [
       "'applied Hadamard to all |ψ5⟩'"
      ]
     },
     "metadata": {},
     "output_type": "display_data"
    },
    {
     "data": {
      "text/latex": [
       "$$(0.202665042945 - 0.0625 i) |000\\rangle+ (0.806218433538 + 0.1875 i) |001\\rangle+ (0.202665042945 - 0.0625 i) |010\\rangle+ (0.202665042945 - 0.0625 i) |011\\rangle+ (0.202665042945 - 0.0625 i) |100\\rangle+ (0.202665042945 - 0.0625 i) |101\\rangle+ (0.202665042945 - 0.0625 i) |110\\rangle+ (0.202665042945 - 0.0625 i) |111\\rangle$$"
      ],
      "text/plain": [
       "<IPython.core.display.Latex object>"
      ]
     },
     "metadata": {},
     "output_type": "display_data"
    },
    {
     "name": "stdout",
     "output_type": "stream",
     "text": [
      "coherence of |ψ5⟩ =  4.346816030837188\n"
     ]
    },
    {
     "data": {
      "text/plain": [
       "'initialised |ψ0⟩'"
      ]
     },
     "metadata": {},
     "output_type": "display_data"
    },
    {
     "data": {
      "text/latex": [
       "$$ |000\\rangle$$"
      ],
      "text/plain": [
       "<IPython.core.display.Latex object>"
      ]
     },
     "metadata": {},
     "output_type": "display_data"
    },
    {
     "name": "stdout",
     "output_type": "stream",
     "text": [
      "coherence of |ψ0⟩ =  0.0\n"
     ]
    },
    {
     "data": {
      "text/plain": [
       "'applied Hadamard to all |ψ1⟩'"
      ]
     },
     "metadata": {},
     "output_type": "display_data"
    },
    {
     "data": {
      "text/latex": [
       "$$\\frac{\\sqrt{2}}{4} |000\\rangle+\\frac{\\sqrt{2}}{4} |001\\rangle+\\frac{\\sqrt{2}}{4} |010\\rangle+\\frac{\\sqrt{2}}{4} |011\\rangle+\\frac{\\sqrt{2}}{4} |100\\rangle+\\frac{\\sqrt{2}}{4} |101\\rangle+\\frac{\\sqrt{2}}{4} |110\\rangle+\\frac{\\sqrt{2}}{4} |111\\rangle$$"
      ],
      "text/plain": [
       "<IPython.core.display.Latex object>"
      ]
     },
     "metadata": {},
     "output_type": "display_data"
    },
    {
     "name": "stdout",
     "output_type": "stream",
     "text": [
      "coherence of |ψ1⟩ =  7.000000000000001\n",
      "Operator([[ 1.0000000e+00+0.j,  0.0000000e+00+0.j,  0.0000000e+00+0.j,\n",
      "            0.0000000e+00+0.j,  0.0000000e+00+0.j,  0.0000000e+00+0.j,\n",
      "            0.0000000e+00+0.j,  0.0000000e+00+0.j],\n",
      "          [ 0.0000000e+00+0.j, -1.8369702e-16-1.j,  0.0000000e+00+0.j,\n",
      "            0.0000000e+00+0.j,  0.0000000e+00+0.j,  0.0000000e+00+0.j,\n",
      "            0.0000000e+00+0.j,  0.0000000e+00+0.j],\n",
      "          [ 0.0000000e+00+0.j,  0.0000000e+00+0.j,  1.0000000e+00+0.j,\n",
      "            0.0000000e+00+0.j,  0.0000000e+00+0.j,  0.0000000e+00+0.j,\n",
      "            0.0000000e+00+0.j,  0.0000000e+00+0.j],\n",
      "          [ 0.0000000e+00+0.j,  0.0000000e+00+0.j,  0.0000000e+00+0.j,\n",
      "            1.0000000e+00+0.j,  0.0000000e+00+0.j,  0.0000000e+00+0.j,\n",
      "            0.0000000e+00+0.j,  0.0000000e+00+0.j],\n",
      "          [ 0.0000000e+00+0.j,  0.0000000e+00+0.j,  0.0000000e+00+0.j,\n",
      "            0.0000000e+00+0.j,  1.0000000e+00+0.j,  0.0000000e+00+0.j,\n",
      "            0.0000000e+00+0.j,  0.0000000e+00+0.j],\n",
      "          [ 0.0000000e+00+0.j,  0.0000000e+00+0.j,  0.0000000e+00+0.j,\n",
      "            0.0000000e+00+0.j,  0.0000000e+00+0.j,  1.0000000e+00+0.j,\n",
      "            0.0000000e+00+0.j,  0.0000000e+00+0.j],\n",
      "          [ 0.0000000e+00+0.j,  0.0000000e+00+0.j,  0.0000000e+00+0.j,\n",
      "            0.0000000e+00+0.j,  0.0000000e+00+0.j,  0.0000000e+00+0.j,\n",
      "            1.0000000e+00+0.j,  0.0000000e+00+0.j],\n",
      "          [ 0.0000000e+00+0.j,  0.0000000e+00+0.j,  0.0000000e+00+0.j,\n",
      "            0.0000000e+00+0.j,  0.0000000e+00+0.j,  0.0000000e+00+0.j,\n",
      "            0.0000000e+00+0.j,  1.0000000e+00+0.j]],\n",
      "         input_dims=(2, 2, 2), output_dims=(2, 2, 2))\n",
      "-------- 1  ITERATION--------\n"
     ]
    },
    {
     "data": {
      "text/plain": [
       "'applied O operator to |ψ2⟩'"
      ]
     },
     "metadata": {},
     "output_type": "display_data"
    },
    {
     "data": {
      "text/latex": [
       "$$\\frac{\\sqrt{2}}{4} |000\\rangle- \\frac{\\sqrt{2} i}{4} |001\\rangle+\\frac{\\sqrt{2}}{4} |010\\rangle+\\frac{\\sqrt{2}}{4} |011\\rangle+\\frac{\\sqrt{2}}{4} |100\\rangle+\\frac{\\sqrt{2}}{4} |101\\rangle+\\frac{\\sqrt{2}}{4} |110\\rangle+\\frac{\\sqrt{2}}{4} |111\\rangle$$"
      ],
      "text/plain": [
       "<IPython.core.display.Latex object>"
      ]
     },
     "metadata": {},
     "output_type": "display_data"
    },
    {
     "name": "stdout",
     "output_type": "stream",
     "text": [
      "coherence of |ψ2⟩ =  7.000000000000001\n"
     ]
    },
    {
     "data": {
      "text/plain": [
       "'applied Hadamard to all |ψ1⟩'"
      ]
     },
     "metadata": {},
     "output_type": "display_data"
    },
    {
     "data": {
      "text/latex": [
       "$$(\\frac{7}{8} - \\frac{i}{8}) |000\\rangle+ (\\frac{1}{8} + \\frac{i}{8}) |001\\rangle+ (- \\frac{1}{8} - \\frac{i}{8}) |010\\rangle+ (\\frac{1}{8} + \\frac{i}{8}) |011\\rangle+ (- \\frac{1}{8} - \\frac{i}{8}) |100\\rangle+ (\\frac{1}{8} + \\frac{i}{8}) |101\\rangle+ (- \\frac{1}{8} - \\frac{i}{8}) |110\\rangle+ (\\frac{1}{8} + \\frac{i}{8}) |111\\rangle$$"
      ],
      "text/plain": [
       "<IPython.core.display.Latex object>"
      ]
     },
     "metadata": {},
     "output_type": "display_data"
    },
    {
     "name": "stdout",
     "output_type": "stream",
     "text": [
      "coherence of |ψ1⟩ =  3.5000000000000013\n"
     ]
    },
    {
     "data": {
      "text/plain": [
       "'applied P operator to |ψ4⟩'"
      ]
     },
     "metadata": {},
     "output_type": "display_data"
    },
    {
     "data": {
      "text/latex": [
       "$$(\\frac{7}{8} - \\frac{i}{8}) |000\\rangle+ (- \\frac{1}{8} - \\frac{i}{8}) |001\\rangle+ (\\frac{1}{8} + \\frac{i}{8}) |010\\rangle+ (- \\frac{1}{8} - \\frac{i}{8}) |011\\rangle+ (\\frac{1}{8} + \\frac{i}{8}) |100\\rangle+ (- \\frac{1}{8} - \\frac{i}{8}) |101\\rangle+ (\\frac{1}{8} + \\frac{i}{8}) |110\\rangle+ (- \\frac{1}{8} - \\frac{i}{8}) |111\\rangle$$"
      ],
      "text/plain": [
       "<IPython.core.display.Latex object>"
      ]
     },
     "metadata": {},
     "output_type": "display_data"
    },
    {
     "name": "stdout",
     "output_type": "stream",
     "text": [
      "coherence of |ψ4⟩ =  3.5000000000000013\n"
     ]
    },
    {
     "data": {
      "text/plain": [
       "'applied Hadamard to all |ψ5⟩'"
      ]
     },
     "metadata": {},
     "output_type": "display_data"
    },
    {
     "data": {
      "text/latex": [
       "$$(\\frac{33191424 \\cdot 2^{\\frac{19}{28}} \\cdot 3^{\\frac{5}{7}} \\cdot 5^{\\frac{6}{7}} \\sqrt{7}}{1953125 \\pi^{\\frac{95}{14}}} - \\frac{3 \\cdot 2^{\\frac{25}{99}} \\cdot 3^{\\frac{4}{9}} \\cdot 5^{\\frac{5}{66}} \\cdot 7^{\\frac{13}{66}} i}{25 \\pi^{\\frac{85}{66}}}) |000\\rangle+ (\\frac{2^{\\frac{165}{188}} \\cdot 3^{\\frac{139}{141}} \\cdot 5^{\\frac{25}{141}} \\cdot 7^{\\frac{403}{564}}}{42 \\pi^{\\frac{9}{94}}} + \\frac{33191424 \\cdot 2^{\\frac{19}{28}} \\cdot 3^{\\frac{5}{7}} \\cdot 5^{\\frac{6}{7}} \\sqrt{7} i}{1953125 \\pi^{\\frac{95}{14}}}) |001\\rangle+ (\\frac{33191424 \\cdot 2^{\\frac{19}{28}} \\cdot 3^{\\frac{5}{7}} \\cdot 5^{\\frac{6}{7}} \\sqrt{7}}{1953125 \\pi^{\\frac{95}{14}}} - \\frac{3 \\cdot 2^{\\frac{25}{99}} \\cdot 3^{\\frac{4}{9}} \\cdot 5^{\\frac{5}{66}} \\cdot 7^{\\frac{13}{66}} i}{25 \\pi^{\\frac{85}{66}}}) |010\\rangle+ (\\frac{33191424 \\cdot 2^{\\frac{19}{28}} \\cdot 3^{\\frac{5}{7}} \\cdot 5^{\\frac{6}{7}} \\sqrt{7}}{1953125 \\pi^{\\frac{95}{14}}} - \\frac{3 \\cdot 2^{\\frac{25}{99}} \\cdot 3^{\\frac{4}{9}} \\cdot 5^{\\frac{5}{66}} \\cdot 7^{\\frac{13}{66}} i}{25 \\pi^{\\frac{85}{66}}}) |011\\rangle+ (\\frac{33191424 \\cdot 2^{\\frac{19}{28}} \\cdot 3^{\\frac{5}{7}} \\cdot 5^{\\frac{6}{7}} \\sqrt{7}}{1953125 \\pi^{\\frac{95}{14}}} - \\frac{3 \\cdot 2^{\\frac{25}{99}} \\cdot 3^{\\frac{4}{9}} \\cdot 5^{\\frac{5}{66}} \\cdot 7^{\\frac{13}{66}} i}{25 \\pi^{\\frac{85}{66}}}) |100\\rangle+ (\\frac{33191424 \\cdot 2^{\\frac{19}{28}} \\cdot 3^{\\frac{5}{7}} \\cdot 5^{\\frac{6}{7}} \\sqrt{7}}{1953125 \\pi^{\\frac{95}{14}}} - \\frac{3 \\cdot 2^{\\frac{25}{99}} \\cdot 3^{\\frac{4}{9}} \\cdot 5^{\\frac{5}{66}} \\cdot 7^{\\frac{13}{66}} i}{25 \\pi^{\\frac{85}{66}}}) |101\\rangle+ (\\frac{33191424 \\cdot 2^{\\frac{19}{28}} \\cdot 3^{\\frac{5}{7}} \\cdot 5^{\\frac{6}{7}} \\sqrt{7}}{1953125 \\pi^{\\frac{95}{14}}} - \\frac{3 \\cdot 2^{\\frac{25}{99}} \\cdot 3^{\\frac{4}{9}} \\cdot 5^{\\frac{5}{66}} \\cdot 7^{\\frac{13}{66}} i}{25 \\pi^{\\frac{85}{66}}}) |110\\rangle+ (\\frac{33191424 \\cdot 2^{\\frac{19}{28}} \\cdot 3^{\\frac{5}{7}} \\cdot 5^{\\frac{6}{7}} \\sqrt{7}}{1953125 \\pi^{\\frac{95}{14}}} - \\frac{3 \\cdot 2^{\\frac{25}{99}} \\cdot 3^{\\frac{4}{9}} \\cdot 5^{\\frac{5}{66}} \\cdot 7^{\\frac{13}{66}} i}{25 \\pi^{\\frac{85}{66}}}) |111\\rangle$$"
      ],
      "text/plain": [
       "<IPython.core.display.Latex object>"
      ]
     },
     "metadata": {},
     "output_type": "display_data"
    },
    {
     "name": "stdout",
     "output_type": "stream",
     "text": [
      "coherence of |ψ5⟩ =  5.915348814110818\n"
     ]
    },
    {
     "data": {
      "text/plain": [
       "'initialised |ψ0⟩'"
      ]
     },
     "metadata": {},
     "output_type": "display_data"
    },
    {
     "data": {
      "text/latex": [
       "$$ |000\\rangle$$"
      ],
      "text/plain": [
       "<IPython.core.display.Latex object>"
      ]
     },
     "metadata": {},
     "output_type": "display_data"
    },
    {
     "name": "stdout",
     "output_type": "stream",
     "text": [
      "coherence of |ψ0⟩ =  0.0\n"
     ]
    },
    {
     "data": {
      "text/plain": [
       "'applied Hadamard to all |ψ1⟩'"
      ]
     },
     "metadata": {},
     "output_type": "display_data"
    },
    {
     "data": {
      "text/latex": [
       "$$\\frac{\\sqrt{2}}{4} |000\\rangle+\\frac{\\sqrt{2}}{4} |001\\rangle+\\frac{\\sqrt{2}}{4} |010\\rangle+\\frac{\\sqrt{2}}{4} |011\\rangle+\\frac{\\sqrt{2}}{4} |100\\rangle+\\frac{\\sqrt{2}}{4} |101\\rangle+\\frac{\\sqrt{2}}{4} |110\\rangle+\\frac{\\sqrt{2}}{4} |111\\rangle$$"
      ],
      "text/plain": [
       "<IPython.core.display.Latex object>"
      ]
     },
     "metadata": {},
     "output_type": "display_data"
    },
    {
     "name": "stdout",
     "output_type": "stream",
     "text": [
      "coherence of |ψ1⟩ =  7.000000000000001\n",
      "Operator([[1.        +0.j        , 0.        +0.j        ,\n",
      "           0.        +0.j        , 0.        +0.j        ,\n",
      "           0.        +0.j        , 0.        +0.j        ,\n",
      "           0.        +0.j        , 0.        +0.j        ],\n",
      "          [0.        +0.j        , 0.70710678-0.70710678j,\n",
      "           0.        +0.j        , 0.        +0.j        ,\n",
      "           0.        +0.j        , 0.        +0.j        ,\n",
      "           0.        +0.j        , 0.        +0.j        ],\n",
      "          [0.        +0.j        , 0.        +0.j        ,\n",
      "           1.        +0.j        , 0.        +0.j        ,\n",
      "           0.        +0.j        , 0.        +0.j        ,\n",
      "           0.        +0.j        , 0.        +0.j        ],\n",
      "          [0.        +0.j        , 0.        +0.j        ,\n",
      "           0.        +0.j        , 1.        +0.j        ,\n",
      "           0.        +0.j        , 0.        +0.j        ,\n",
      "           0.        +0.j        , 0.        +0.j        ],\n",
      "          [0.        +0.j        , 0.        +0.j        ,\n",
      "           0.        +0.j        , 0.        +0.j        ,\n",
      "           1.        +0.j        , 0.        +0.j        ,\n",
      "           0.        +0.j        , 0.        +0.j        ],\n",
      "          [0.        +0.j        , 0.        +0.j        ,\n",
      "           0.        +0.j        , 0.        +0.j        ,\n",
      "           0.        +0.j        , 1.        +0.j        ,\n",
      "           0.        +0.j        , 0.        +0.j        ],\n",
      "          [0.        +0.j        , 0.        +0.j        ,\n",
      "           0.        +0.j        , 0.        +0.j        ,\n",
      "           0.        +0.j        , 0.        +0.j        ,\n",
      "           1.        +0.j        , 0.        +0.j        ],\n",
      "          [0.        +0.j        , 0.        +0.j        ,\n",
      "           0.        +0.j        , 0.        +0.j        ,\n",
      "           0.        +0.j        , 0.        +0.j        ,\n",
      "           0.        +0.j        , 1.        +0.j        ]],\n",
      "         input_dims=(2, 2, 2), output_dims=(2, 2, 2))\n",
      "-------- 1  ITERATION--------\n"
     ]
    },
    {
     "data": {
      "text/plain": [
       "'applied O operator to |ψ2⟩'"
      ]
     },
     "metadata": {},
     "output_type": "display_data"
    },
    {
     "data": {
      "text/latex": [
       "$$\\frac{\\sqrt{2}}{4} |000\\rangle+ (\\frac{1}{4} - \\frac{i}{4}) |001\\rangle+\\frac{\\sqrt{2}}{4} |010\\rangle+\\frac{\\sqrt{2}}{4} |011\\rangle+\\frac{\\sqrt{2}}{4} |100\\rangle+\\frac{\\sqrt{2}}{4} |101\\rangle+\\frac{\\sqrt{2}}{4} |110\\rangle+\\frac{\\sqrt{2}}{4} |111\\rangle$$"
      ],
      "text/plain": [
       "<IPython.core.display.Latex object>"
      ]
     },
     "metadata": {},
     "output_type": "display_data"
    },
    {
     "name": "stdout",
     "output_type": "stream",
     "text": [
      "coherence of |ψ2⟩ =  7.000000000000001\n"
     ]
    },
    {
     "data": {
      "text/plain": [
       "'applied Hadamard to all |ψ1⟩'"
      ]
     },
     "metadata": {},
     "output_type": "display_data"
    },
    {
     "data": {
      "text/latex": [
       "$$(0.963388347648 - 0.088388347648 i) |000\\rangle+ (0.036611652352 + 0.088388347648 i) |001\\rangle+ (-0.036611652352 - 0.088388347648 i) |010\\rangle+ (0.036611652352 + 0.088388347648 i) |011\\rangle+ (-0.036611652352 - 0.088388347648 i) |100\\rangle+ (0.036611652352 + 0.088388347648 i) |101\\rangle+ (-0.036611652352 - 0.088388347648 i) |110\\rangle+ (0.036611652352 + 0.088388347648 i) |111\\rangle$$"
      ],
      "text/plain": [
       "<IPython.core.display.Latex object>"
      ]
     },
     "metadata": {},
     "output_type": "display_data"
    },
    {
     "name": "stdout",
     "output_type": "stream",
     "text": [
      "coherence of |ψ1⟩ =  1.6801964592284313\n"
     ]
    },
    {
     "data": {
      "text/plain": [
       "'applied P operator to |ψ4⟩'"
      ]
     },
     "metadata": {},
     "output_type": "display_data"
    },
    {
     "data": {
      "text/latex": [
       "$$(0.963388347648 - 0.088388347648 i) |000\\rangle+ (-0.036611652352 - 0.088388347648 i) |001\\rangle+ (0.036611652352 + 0.088388347648 i) |010\\rangle+ (-0.036611652352 - 0.088388347648 i) |011\\rangle+ (0.036611652352 + 0.088388347648 i) |100\\rangle+ (-0.036611652352 - 0.088388347648 i) |101\\rangle+ (0.036611652352 + 0.088388347648 i) |110\\rangle+ (-0.036611652352 - 0.088388347648 i) |111\\rangle$$"
      ],
      "text/plain": [
       "<IPython.core.display.Latex object>"
      ]
     },
     "metadata": {},
     "output_type": "display_data"
    },
    {
     "name": "stdout",
     "output_type": "stream",
     "text": [
      "coherence of |ψ4⟩ =  1.6801964592284313\n"
     ]
    },
    {
     "data": {
      "text/plain": [
       "'applied Hadamard to all |ψ5⟩'"
      ]
     },
     "metadata": {},
     "output_type": "display_data"
    },
    {
     "data": {
      "text/latex": [
       "$$(0.327665042945 - 0.0625 i) |000\\rangle+ (0.431218433538 + 0.1875 i) |001\\rangle+ (0.327665042945 - 0.0625 i) |010\\rangle+ (0.327665042945 - 0.0625 i) |011\\rangle+ (0.327665042945 - 0.0625 i) |100\\rangle+ (0.327665042945 - 0.0625 i) |101\\rangle+ (0.327665042945 - 0.0625 i) |110\\rangle+ (0.327665042945 - 0.0625 i) |111\\rangle$$"
      ],
      "text/plain": [
       "<IPython.core.display.Latex object>"
      ]
     },
     "metadata": {},
     "output_type": "display_data"
    },
    {
     "name": "stdout",
     "output_type": "stream",
     "text": [
      "coherence of |ψ5⟩ =  6.869294840808086\n"
     ]
    }
   ],
   "source": [
    "def iteration(i):\n",
    "    qc.barrier()\n",
    "    count = i*4\n",
    "    qc.append(O_operator,length)\n",
    "    result = execute(qc, backend).result()\n",
    "    state = result.get_statevector()\n",
    "    display(\"applied O operator to |ψ2⟩\", state.draw('latex'))\n",
    "    density_operator = state.to_operator()\n",
    "    coherence = 0\n",
    "    for i in range(N):\n",
    "        for j in range(N):\n",
    "            if(i != j):\n",
    "                coherence += abs(density_operator.data[i,j])\n",
    "    print(\"coherence of |ψ2⟩ = \",coherence)\n",
    "    data[count] = coherence\n",
    "\n",
    "    qc.h(length)\n",
    "    result = execute(qc, backend).result()\n",
    "    state = result.get_statevector()\n",
    "    display(\"applied Hadamard to all |ψ1⟩\", state.draw('latex'))\n",
    "    density_operator = state.to_operator()\n",
    "    coherence = 0\n",
    "    for i in range(N):\n",
    "        for j in range(N):\n",
    "            if(i != j):\n",
    "                coherence += abs(density_operator.data[i,j])\n",
    "    print(\"coherence of |ψ1⟩ = \",coherence)\n",
    "    data[count+1] = coherence\n",
    "\n",
    "    qc.append(P_operator,length)\n",
    "    result = execute(qc, backend).result()\n",
    "    state = result.get_statevector()\n",
    "    display(\"applied P operator to |ψ4⟩\", state.draw('latex'))\n",
    "    density_operator = state.to_operator()\n",
    "    coherence = 0\n",
    "    for i in range(N):\n",
    "        for j in range(N):\n",
    "            if(i != j):\n",
    "                coherence += abs(density_operator.data[i,j])\n",
    "    print(\"coherence of |ψ4⟩ = \",coherence)\n",
    "    data[count+2] = coherence\n",
    "\n",
    "    qc.h(length)\n",
    "    result = execute(qc, backend).result()\n",
    "    state = result.get_statevector()\n",
    "    display(\"applied Hadamard to all |ψ5⟩\", state.draw('latex'))\n",
    "    density_operator = state.to_operator()\n",
    "    coherence = 0\n",
    "    for i in range(N):\n",
    "        for j in range(N):\n",
    "            if(i != j):\n",
    "                coherence += abs(density_operator.data[i,j])\n",
    "    print(\"coherence of |ψ5⟩ = \",coherence)\n",
    "    data[count+3] = coherence\n",
    "\n",
    "for it in range(len(phi)):\n",
    "    qc = QuantumCircuit(n)\n",
    "    backend = Aer.get_backend('statevector_simulator')\n",
    "    result = execute(qc, backend).result()\n",
    "    state = result.get_statevector()\n",
    "    display(\"initialised |ψ0⟩\", state.draw('latex'))\n",
    "    density_operator = state.to_operator()\n",
    "    #print(density_operator.data)\n",
    "    coherence = 0\n",
    "    for i in range(N):\n",
    "        for j in range(N):\n",
    "            if(i != j):\n",
    "                coherence += abs(density_operator.data[i,j])\n",
    "    print(\"coherence of |ψ0⟩ = \",coherence)\n",
    "\n",
    "    qc.h(length)\n",
    "    result = execute(qc, backend).result()\n",
    "    state = result.get_statevector()\n",
    "    display(\"applied Hadamard to all |ψ1⟩\", state.draw('latex'))\n",
    "    density_operator = state.to_operator()\n",
    "    #print(density_operator.data)\n",
    "    coherence = 0\n",
    "    for i in range(N):\n",
    "        for j in range(N):\n",
    "            if(i != j):\n",
    "                coherence += abs(density_operator.data[i,j])\n",
    "    print(\"coherence of |ψ1⟩ = \",coherence)\n",
    "\n",
    "    #defining generalised O Operator\n",
    "    count = 0\n",
    "    choice = it\n",
    "    O_operator = Operator(np.zeros((N,N)))\n",
    "    for i in range(N):\n",
    "        for j in range(N):\n",
    "            if(i != j):   #off diagonal elements\n",
    "                O_operator.data[i][j] = 0\n",
    "            else:   \n",
    "                '''\n",
    "                if(count <= t):   #for the first t target states only\n",
    "                    O_operator.data[i][j] = x[choice]\n",
    "                    count += 1\n",
    "                '''\n",
    "                flag = 0\n",
    "                for k in range(t-1):\n",
    "                    if(i == target[k]):\n",
    "                        O_operator.data[i][j] = x[choice]\n",
    "                        count += 1\n",
    "                        flag = 1\n",
    "                if(flag == 0):\n",
    "                    O_operator.data[i][j] = 1            \n",
    "    print(O_operator)\n",
    "\n",
    "    #defining P Operator\n",
    "    P_operator = Operator(np.zeros((N,N)))\n",
    "    for i in range(N):\n",
    "        for j in range(N):\n",
    "            if(i != j):    #off-diagonal elements\n",
    "                P_operator.data[i][j] = 0\n",
    "            else:\n",
    "                if(i==0 & j==0):   #for 1st element only\n",
    "                    P_operator.data[i][j] = 1\n",
    "                else:\n",
    "                    P_operator.data[i][j] = -1\n",
    "    #print(P_operator)\n",
    "\n",
    "    #sending out for x iterations of grover's operator\n",
    "    for i in range(noi):\n",
    "        print(\"--------\",(i+1),\" ITERATION--------\")\n",
    "        iteration(i)\n",
    "\n",
    "    qc.draw('mpl')"
   ]
  },
  {
   "cell_type": "code",
   "execution_count": 6,
   "id": "16d5fb69",
   "metadata": {},
   "outputs": [
    {
     "data": {
      "text/plain": [
       "'\\ndata = data/N\\nxa = [a / 4 for a in x_axis]\\n\\npl.scatter(xa[::4], data[::4], color=\\'red\\', label=\\'O\\')\\npl.scatter(xa[1::4], data[1::4], color=\\'blue\\', marker=\\'<\\', label=\\'H\\')\\npl.scatter(xa[2::4], data[2::4], color=\\'black\\', marker=\\'>\\', label=\\'P\\')\\npl.scatter(xa[3::4], data[3::4], color=\\'green\\', marker=\\'d\\', label=\\'H\\')\\npl.plot(xa, data)\\npl.ylabel(\"Coherence\")\\npl.legend()\\npl.show()\\n'"
      ]
     },
     "execution_count": 6,
     "metadata": {},
     "output_type": "execute_result"
    }
   ],
   "source": [
    "'''\n",
    "data = data/N\n",
    "xa = [a / 4 for a in x_axis]\n",
    "\n",
    "pl.scatter(xa[::4], data[::4], color='red', label='O')\n",
    "pl.scatter(xa[1::4], data[1::4], color='blue', marker='<', label='H')\n",
    "pl.scatter(xa[2::4], data[2::4], color='black', marker='>', label='P')\n",
    "pl.scatter(xa[3::4], data[3::4], color='green', marker='d', label='H')\n",
    "pl.plot(xa, data)\n",
    "pl.ylabel(\"Coherence\")\n",
    "pl.legend()\n",
    "pl.show()\n",
    "'''"
   ]
  },
  {
   "cell_type": "code",
   "execution_count": 7,
   "id": "312dc42f",
   "metadata": {},
   "outputs": [
    {
     "name": "stdout",
     "output_type": "stream",
     "text": [
      "[7.         1.68019646 1.68019646 6.86929484]\n"
     ]
    }
   ],
   "source": [
    "print(data)"
   ]
  },
  {
   "cell_type": "code",
   "execution_count": 9,
   "id": "3a767a95",
   "metadata": {},
   "outputs": [
    {
     "ename": "NameError",
     "evalue": "name 'figsize' is not defined",
     "output_type": "error",
     "traceback": [
      "\u001b[1;31m---------------------------------------------------------------------------\u001b[0m",
      "\u001b[1;31mNameError\u001b[0m                                 Traceback (most recent call last)",
      "\u001b[1;32m~\\AppData\\Local\\Temp\\ipykernel_23432\\3508552374.py\u001b[0m in \u001b[0;36m<module>\u001b[1;34m\u001b[0m\n\u001b[0;32m      2\u001b[0m \u001b[0mxa\u001b[0m \u001b[1;33m=\u001b[0m \u001b[1;33m[\u001b[0m\u001b[0ma\u001b[0m \u001b[1;33m/\u001b[0m \u001b[1;36m4\u001b[0m \u001b[1;32mfor\u001b[0m \u001b[0ma\u001b[0m \u001b[1;32min\u001b[0m \u001b[0mx_axis\u001b[0m\u001b[1;33m]\u001b[0m\u001b[1;33m\u001b[0m\u001b[1;33m\u001b[0m\u001b[0m\n\u001b[0;32m      3\u001b[0m \u001b[1;33m\u001b[0m\u001b[0m\n\u001b[1;32m----> 4\u001b[1;33m \u001b[0mfig\u001b[0m\u001b[1;33m,\u001b[0m \u001b[0maxs\u001b[0m \u001b[1;33m=\u001b[0m \u001b[0mpl\u001b[0m\u001b[1;33m.\u001b[0m\u001b[0msubplots\u001b[0m\u001b[1;33m(\u001b[0m\u001b[1;36m2\u001b[0m\u001b[1;33m,\u001b[0m\u001b[1;36m2\u001b[0m\u001b[1;33m,\u001b[0m \u001b[0mfigsize\u001b[0m\u001b[1;33m(\u001b[0m\u001b[1;36m10\u001b[0m\u001b[1;33m,\u001b[0m\u001b[1;36m10\u001b[0m\u001b[1;33m)\u001b[0m\u001b[1;33m)\u001b[0m\u001b[1;33m\u001b[0m\u001b[1;33m\u001b[0m\u001b[0m\n\u001b[0m\u001b[0;32m      5\u001b[0m \u001b[1;33m\u001b[0m\u001b[0m\n\u001b[0;32m      6\u001b[0m \u001b[0maxs\u001b[0m\u001b[1;33m[\u001b[0m\u001b[1;36m0\u001b[0m\u001b[1;33m,\u001b[0m\u001b[1;36m0\u001b[0m\u001b[1;33m]\u001b[0m\u001b[1;33m.\u001b[0m\u001b[0mscatter\u001b[0m\u001b[1;33m(\u001b[0m\u001b[0mxa\u001b[0m\u001b[1;33m[\u001b[0m\u001b[1;33m:\u001b[0m\u001b[1;33m:\u001b[0m\u001b[1;36m4\u001b[0m\u001b[1;33m]\u001b[0m\u001b[1;33m,\u001b[0m \u001b[0mdata\u001b[0m\u001b[1;33m[\u001b[0m\u001b[1;33m:\u001b[0m\u001b[1;33m:\u001b[0m\u001b[1;36m4\u001b[0m\u001b[1;33m]\u001b[0m\u001b[1;33m,\u001b[0m \u001b[0mcolor\u001b[0m\u001b[1;33m=\u001b[0m\u001b[1;34m'red'\u001b[0m\u001b[1;33m,\u001b[0m \u001b[0mlabel\u001b[0m\u001b[1;33m=\u001b[0m\u001b[1;34m'O'\u001b[0m\u001b[1;33m)\u001b[0m\u001b[1;33m\u001b[0m\u001b[1;33m\u001b[0m\u001b[0m\n",
      "\u001b[1;31mNameError\u001b[0m: name 'figsize' is not defined"
     ]
    }
   ],
   "source": [
    "data = data/N\n",
    "xa = [a / 4 for a in x_axis]\n",
    "\n",
    "fig, axs = pl.subplots(2,2, figsize(10,10))\n",
    "\n",
    "axs[0,0].scatter(xa[::4], data[::4], color='red', label='O')\n",
    "axs[0,0].scatter(xa[1::4], data[1::4], color='blue', marker='<', label='H')\n",
    "axs[0,0].scatter(xa[2::4], data[2::4], color='black', marker='>', label='P')\n",
    "axs[0,0].scatter(xa[3::4], data[3::4], color='green', marker='d', label='H')\n",
    "axs[0,0].plot(xa, data)\n",
    "#axs[0,0].ylabel(\"Coherence\")\n",
    "axs[0,0].legend()\n",
    "pl.show()"
   ]
  },
  {
   "cell_type": "code",
   "execution_count": 17,
   "id": "affc4c35",
   "metadata": {},
   "outputs": [
    {
     "data": {
      "image/png": "[encoded data removed]",
      "text/plain": [
       "<Figure size 500x300 with 1 Axes>"
      ]
     },
     "metadata": {},
     "output_type": "display_data"
    }
   ],
   "source": [
    "import matplotlib.pyplot as plt\n",
    "import numpy as np\n",
    "\n",
    "x = np.linspace(0, 2 * np.pi, 400)\n",
    "y = np.sin(x ** 2)\n",
    "\n",
    "plt.figure(figsize=(5, 3))  # Set the figure size\n",
    "plt.plot(x, y)\n",
    "plt.title('Single Plot with Custom Figure Size')\n",
    "plt.xlabel('x')\n",
    "plt.ylabel('y')\n",
    "plt.grid(True)\n",
    "plt.show()"
   ]
  },
  {
   "cell_type": "code",
   "execution_count": null,
   "id": "0c1b7e66",
   "metadata": {},
   "outputs": [],
   "source": []
  }
 ],
 "metadata": {
  "kernelspec": {
   "display_name": "Python 3 (ipykernel)",
   "language": "python",
   "name": "python3"
  },
  "language_info": {
   "codemirror_mode": {
    "name": "ipython",
    "version": 3
   },
   "file_extension": ".py",
   "mimetype": "text/x-python",
   "name": "python",
   "nbconvert_exporter": "python",
   "pygments_lexer": "ipython3",
   "version": "3.9.13"
  }
 },
 "nbformat": 4,
 "nbformat_minor": 5
}
